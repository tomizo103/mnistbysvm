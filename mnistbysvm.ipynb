{
  "nbformat": 4,
  "nbformat_minor": 0,
  "metadata": {
    "colab": {
      "name": "mnistbysvm.ipynb",
      "version": "0.3.2",
      "provenance": [],
      "collapsed_sections": []
    },
    "kernelspec": {
      "name": "python3",
      "display_name": "Python 3"
    }
  },
  "cells": [
    {
      "cell_type": "markdown",
      "metadata": {
        "id": "view-in-github",
        "colab_type": "text"
      },
      "source": [
        "[View in Colaboratory](https://colab.research.google.com/github/tomizo103/mnistbysvm/blob/master/mnistbysvm.ipynb)"
      ]
    },
    {
      "metadata": {
        "id": "BeWB3_7FSJu5",
        "colab_type": "text"
      },
      "cell_type": "markdown",
      "source": [
        "# 0.利用する環境\n",
        "[Google Colabolatory](https://colab.research.google.com/)というサービスを利用します。Googleのアカウントを持っていればなんと無料で使えます！しちめんどくさい環境構築を自分のPCにしなくても、ChromeさえあればOK！"
      ]
    },
    {
      "metadata": {
        "id": "dzCUT41LjqN6",
        "colab_type": "text"
      },
      "cell_type": "markdown",
      "source": [
        "# 1.MNISTデータの取得\n",
        "sklearnを利用して[http://mldata.org](http://mldata.org)から取得します。"
      ]
    },
    {
      "metadata": {
        "id": "cOWGZ8aikgLL",
        "colab_type": "code",
        "colab": {}
      },
      "cell_type": "code",
      "source": [
        "import numpy as np \n",
        "from sklearn import datasets\n",
        "mnist = datasets.fetch_mldata('MNIST original') #  この命令だけでデータダウンロードされます"
      ],
      "execution_count": 0,
      "outputs": []
    },
    {
      "metadata": {
        "id": "ultY5n4nt0su",
        "colab_type": "text"
      },
      "cell_type": "markdown",
      "source": [
        "# 2.データの確認\n",
        "データの中身を確認してみましょう。<br>\n",
        "MNISTデータは画像データ、ラベルデータ(画像に描かれた数字が何か)の組み合わせが、学習用に60000個、検証用に10000個含まれています。"
      ]
    },
    {
      "metadata": {
        "id": "jf3AmZn5onCl",
        "colab_type": "code",
        "colab": {
          "base_uri": "https://localhost:8080/",
          "height": 51
        },
        "outputId": "a2a4647d-2f1a-4f0a-f0f3-8aa8c7589071"
      },
      "cell_type": "code",
      "source": [
        "imagedata, labeldata = mnist.data,mnist.target\n",
        "print(\"画像データ数:\"+str(imagedata.shape))\n",
        "print(\"ラベルデータ数:\"+str(labeldata.shape))"
      ],
      "execution_count": 4,
      "outputs": [
        {
          "output_type": "stream",
          "text": [
            "画像データ数:(70000, 784)\n",
            "ラベルデータ数:(70000,)\n"
          ],
          "name": "stdout"
        }
      ]
    },
    {
      "metadata": {
        "id": "vdRt02h1v8jx",
        "colab_type": "text"
      },
      "cell_type": "markdown",
      "source": [
        "画像データ、ラベルデータとも合計70,000データあることが分かりました。画像データの２つ目の項目が784とあるのは、各画像には28*28=784pixel分の輝度データがあるということです。下記で画像データを画像化してみます。"
      ]
    },
    {
      "metadata": {
        "id": "wdqQ3S_JxMCq",
        "colab_type": "code",
        "colab": {
          "base_uri": "https://localhost:8080/",
          "height": 89
        },
        "outputId": "6055b38a-c79f-4064-ea04-a7bb4fb1009c"
      },
      "cell_type": "code",
      "source": [
        "import matplotlib.pyplot as plt\n",
        "for i in range(1,11): \n",
        "    plt.subplot(1,10,i) # 横並びに表示するためのおまじない\n",
        "    plt.imshow(imagedata[(i-1)*6500].reshape(28,28),cmap='gray_r')\n",
        "      # データ内から適当な間隔(6500)で拾って、gray_rで白黒反転して表示してます\n",
        "plt.show() "
      ],
      "execution_count": 5,
      "outputs": [
        {
          "output_type": "display_data",
          "data": {
            "image/png": "[encoded data removed]",
            "text/plain": [
              "<matplotlib.figure.Figure at 0x7f806882b1d0>"
            ]
          },
          "metadata": {
            "tags": []
          }
        }
      ]
    },
    {
      "metadata": {
        "id": "aJ3l8mvLfFvm",
        "colab_type": "text"
      },
      "cell_type": "markdown",
      "source": [
        "ところで、含まれているデータは各数字ぴったり同じではないんですね。ラベルデータ内の度数を見てみると各数字の個数にはばらつきがあります。5のデータが一番少なくて、１が一番多いんですね...約1500枚もの開きがあります。"
      ]
    },
    {
      "metadata": {
        "id": "GXkDqw3O2NSf",
        "colab_type": "code",
        "colab": {
          "base_uri": "https://localhost:8080/",
          "height": 71
        },
        "outputId": "3a4dd8e3-2971-49b6-a732-240ca5a2d1af"
      },
      "cell_type": "code",
      "source": [
        "whatsinlabel = set(labeldata)\n",
        "print(\"ラベルデータに含まれる情報の種類: \"+ str(whatsinlabel))\n",
        "howmanylabels = { key: list(labeldata).count(key) for key in whatsinlabel} # 辞書として度数分布表を作る\n",
        "print(\"ラベルデータに含まれる情報の頻度: \"+ str(howmanylabels))"
      ],
      "execution_count": 6,
      "outputs": [
        {
          "output_type": "stream",
          "text": [
            "ラベルデータに含まれる情報の種類: {0.0, 1.0, 2.0, 3.0, 4.0, 5.0, 6.0, 7.0, 8.0, 9.0}\n",
            "ラベルデータに含まれる情報の頻度: {0.0: 6903, 1.0: 7877, 2.0: 6990, 3.0: 7141, 4.0: 6824, 5.0: 6313, 6.0: 6876, 7.0: 7293, 8.0: 6825, 9.0: 6958}\n"
          ],
          "name": "stdout"
        }
      ]
    },
    {
      "metadata": {
        "id": "5-LGZtAkzxGZ",
        "colab_type": "text"
      },
      "cell_type": "markdown",
      "source": [
        "# 3.訓練データと検証データに分割\n",
        "4/5を訓練データ、1/5を検証データとしてみます。データは頭から0のデータが6903個、1のデータが7877個...と並んでいますので、ランダムにシャッフルして利用します。sklearnの便利な関数でデータ分割が１行で済んじゃいます。"
      ]
    },
    {
      "metadata": {
        "id": "blfubsFUm-uM",
        "colab_type": "code",
        "colab": {
          "base_uri": "https://localhost:8080/",
          "height": 85
        },
        "outputId": "2fd92d41-b5dc-4294-89fd-4fdb35820e7d"
      },
      "cell_type": "code",
      "source": [
        "from sklearn.model_selection import train_test_split\n",
        "imagedata_training,imagedata_validation,labeldata_training,labeldata_validation = train_test_split(imagedata,labeldata,test_size=0.2)\n",
        "print(\"訓練画像データ数:\"+str(imagedata_training.shape))\n",
        "print(\"検証画像データ数:\"+str(imagedata_validation.shape))\n",
        "print(\"訓練ラベルデータ数:\"+str(labeldata_training.shape))\n",
        "print(\"検証ラベルデータ数:\"+str(labeldata_validation.shape))"
      ],
      "execution_count": 7,
      "outputs": [
        {
          "output_type": "stream",
          "text": [
            "訓練画像データ数:(56000, 784)\n",
            "検証画像データ数:(14000, 784)\n",
            "訓練ラベルデータ数:(56000,)\n",
            "検証ラベルデータ数:(14000,)\n"
          ],
          "name": "stdout"
        }
      ]
    },
    {
      "metadata": {
        "id": "MQoelKV54r5A",
        "colab_type": "text"
      },
      "cell_type": "markdown",
      "source": [
        "頭から拾って見てみましょう"
      ]
    },
    {
      "metadata": {
        "id": "bhYc7vDb3K1a",
        "colab_type": "code",
        "colab": {
          "base_uri": "https://localhost:8080/",
          "height": 89
        },
        "outputId": "9fd5dda5-d2f5-41a3-86f8-46501ca6d849"
      },
      "cell_type": "code",
      "source": [
        "for i in range(1,11): \n",
        "    plt.subplot(1,10,i) # 横並びに表示するためのおまじない\n",
        "    plt.imshow(imagedata_training[i-1].reshape(28,28),cmap='gray_r')\n",
        "plt.show() "
      ],
      "execution_count": 8,
      "outputs": [
        {
          "output_type": "display_data",
          "data": {
            "image/png": "[encoded data removed]",
            "text/plain": [
              "<matplotlib.figure.Figure at 0x7f8068826da0>"
            ]
          },
          "metadata": {
            "tags": []
          }
        }
      ]
    },
    {
      "metadata": {
        "id": "-iXP1ZgZ41NE",
        "colab_type": "text"
      },
      "cell_type": "markdown",
      "source": [
        "お、シャッフルされてますね。"
      ]
    },
    {
      "metadata": {
        "id": "ieN4oAob5PCr",
        "colab_type": "text"
      },
      "cell_type": "markdown",
      "source": [
        "# 4.学習と評価"
      ]
    },
    {
      "metadata": {
        "id": "NAHIfAW08sy_",
        "colab_type": "text"
      },
      "cell_type": "markdown",
      "source": [
        "## 準備"
      ]
    },
    {
      "metadata": {
        "id": "IYu5_0xR4n3m",
        "colab_type": "code",
        "colab": {}
      },
      "cell_type": "code",
      "source": [
        "# 256階調の輝度値を0-1の値に変換しておきます\n",
        "imagedata_training = imagedata_training/255.\n",
        "imagedata_validation = imagedata_validation/255."
      ],
      "execution_count": 0,
      "outputs": []
    },
    {
      "metadata": {
        "id": "P--Us6Yx8l_5",
        "colab_type": "text"
      },
      "cell_type": "markdown",
      "source": [
        "## 学習"
      ]
    },
    {
      "metadata": {
        "id": "cPbZKu9m8RBj",
        "colab_type": "code",
        "colab": {
          "base_uri": "https://localhost:8080/",
          "height": 34
        },
        "outputId": "5d9d6ac4-1b4e-432f-aadb-53a8341ca7fd"
      },
      "cell_type": "code",
      "source": [
        "import os\n",
        "from sklearn.svm import SVC\n",
        "import time\n",
        "\n",
        "# 学習\n",
        "start = time.time()\n",
        "\n",
        "clf = SVC()\n",
        "clf.fit(imagedata_training, labeldata_training)\n",
        "\n",
        "elapsed_time = time.time() - start\n",
        "print (\"elapsed_time:{0}\".format(elapsed_time) + \"[sec]\")"
      ],
      "execution_count": 84,
      "outputs": [
        {
          "output_type": "stream",
          "text": [
            "elapsed_time:948.7113966941833[sec]\n"
          ],
          "name": "stdout"
        }
      ]
    },
    {
      "metadata": {
        "id": "dSsHPb9-O0Pl",
        "colab_type": "text"
      },
      "cell_type": "markdown",
      "source": [
        "CPUモードで948[sec]、GPUモードで661[sec]でした！\n"
      ]
    },
    {
      "metadata": {
        "id": "2U-SxOcgX7qg",
        "colab_type": "text"
      },
      "cell_type": "markdown",
      "source": [
        "## 評価"
      ]
    },
    {
      "metadata": {
        "id": "Mcbzd97R-_Li",
        "colab_type": "code",
        "colab": {
          "base_uri": "https://localhost:8080/",
          "height": 323
        },
        "outputId": "2776c737-6191-48b6-daf0-65b901e05c2b"
      },
      "cell_type": "code",
      "source": [
        "# 評価\n",
        "start = time.time()\n",
        "\n",
        "predict = clf.predict(imagedata_validation)\n",
        "\n",
        "elapsed_time = time.time() - start\n",
        "print (\"elapsed_time:{0}\".format(elapsed_time) + \"[sec]\")\n",
        "\n",
        "# 結果表示\n",
        "print(\"結果\")\n",
        "ac_score = metrics.accuracy_score(labeldata_validation, predict)\n",
        "cl_report = metrics.classification_report(labeldata_validation, predict)\n",
        "print(\"正解率 = \", ac_score)\n",
        "print(cl_report)"
      ],
      "execution_count": 85,
      "outputs": [
        {
          "output_type": "stream",
          "text": [
            "elapsed_time:359.38180708885193[sec]\n",
            "結果\n",
            "正解率 =  0.9377142857142857\n",
            "             precision    recall  f1-score   support\n",
            "\n",
            "        0.0       0.97      0.98      0.97      1340\n",
            "        1.0       0.95      0.98      0.97      1620\n",
            "        2.0       0.93      0.93      0.93      1372\n",
            "        3.0       0.94      0.90      0.92      1453\n",
            "        4.0       0.92      0.95      0.93      1361\n",
            "        5.0       0.91      0.91      0.91      1261\n",
            "        6.0       0.96      0.97      0.96      1361\n",
            "        7.0       0.95      0.94      0.94      1461\n",
            "        8.0       0.93      0.90      0.92      1369\n",
            "        9.0       0.92      0.92      0.92      1402\n",
            "\n",
            "avg / total       0.94      0.94      0.94     14000\n",
            "\n"
          ],
          "name": "stdout"
        }
      ]
    },
    {
      "metadata": {
        "id": "-iqLL2qeYyE8",
        "colab_type": "code",
        "colab": {}
      },
      "cell_type": "code",
      "source": [
        ""
      ],
      "execution_count": 0,
      "outputs": []
    }
  ]
}